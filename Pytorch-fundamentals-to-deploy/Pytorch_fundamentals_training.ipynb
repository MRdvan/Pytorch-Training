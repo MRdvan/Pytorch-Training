{
  "nbformat": 4,
  "nbformat_minor": 0,
  "metadata": {
    "colab": {
      "provenance": [],
      "collapsed_sections": [
        "pP2fKcQFdTEE",
        "pUrdiRvKdKwF",
        "xN-siERsdDau",
        "sZYoaBpIrAkO",
        "fJHaotq70CxW",
        "grwkc8782qiY",
        "uTE1726XJvML"
      ],
      "authorship_tag": "ABX9TyMoTVLEfxBRo30FmSIxzzya",
      "include_colab_link": true
    },
    "kernelspec": {
      "name": "python3",
      "display_name": "Python 3"
    },
    "language_info": {
      "name": "python"
    },
    "accelerator": "GPU"
  },
  "cells": [
    {
      "cell_type": "markdown",
      "metadata": {
        "id": "view-in-github",
        "colab_type": "text"
      },
      "source": [
        "<a href=\"https://colab.research.google.com/github/MRdvan/Pytorch-Training/blob/master/Pytorch-fundamentals-to-deploy/Pytorch_fundamentals_training.ipynb\" target=\"_parent\"><img src=\"https://colab.research.google.com/assets/colab-badge.svg\" alt=\"Open In Colab\"/></a>"
      ]
    },
    {
      "cell_type": "code",
      "execution_count": null,
      "metadata": {
        "colab": {
          "base_uri": "https://localhost:8080/",
          "height": 36
        },
        "id": "NrgE1lqWlx19",
        "outputId": "d109c746-e42a-45ac-b69c-2464ec92ed1d"
      },
      "outputs": [
        {
          "output_type": "execute_result",
          "data": {
            "text/plain": [
              "'1.12.1+cu113'"
            ],
            "application/vnd.google.colaboratory.intrinsic+json": {
              "type": "string"
            }
          },
          "metadata": {},
          "execution_count": 1
        }
      ],
      "source": [
        "import torch\n",
        "torch.__version__"
      ]
    },
    {
      "cell_type": "code",
      "source": [
        "# ------TENSORS------\n",
        "#scaler\n",
        "scaler = torch.tensor(7)\n",
        "scaler"
      ],
      "metadata": {
        "colab": {
          "base_uri": "https://localhost:8080/"
        },
        "id": "HyZS7m7pmQyt",
        "outputId": "18f85d9f-cfd0-4542-8308-979ed005e680"
      },
      "execution_count": null,
      "outputs": [
        {
          "output_type": "execute_result",
          "data": {
            "text/plain": [
              "tensor(7)"
            ]
          },
          "metadata": {},
          "execution_count": 10
        }
      ]
    },
    {
      "cell_type": "code",
      "source": [
        "scaler.ndim"
      ],
      "metadata": {
        "colab": {
          "base_uri": "https://localhost:8080/"
        },
        "id": "9sv9ylSqnGHF",
        "outputId": "c6a13dc2-c5c7-4251-9f20-128ba4860ba8"
      },
      "execution_count": null,
      "outputs": [
        {
          "output_type": "execute_result",
          "data": {
            "text/plain": [
              "0"
            ]
          },
          "metadata": {},
          "execution_count": 11
        }
      ]
    },
    {
      "cell_type": "code",
      "source": [
        "#return from tensor to python integer with \"item()\" it only works for one dim tensors\n",
        "scaler.item()"
      ],
      "metadata": {
        "colab": {
          "base_uri": "https://localhost:8080/"
        },
        "id": "abQMxOILnMC0",
        "outputId": "98a71406-3313-4a7c-9d03-c0417ffa42c4"
      },
      "execution_count": null,
      "outputs": [
        {
          "output_type": "execute_result",
          "data": {
            "text/plain": [
              "7"
            ]
          },
          "metadata": {},
          "execution_count": 12
        }
      ]
    },
    {
      "cell_type": "code",
      "source": [
        "#vector\n",
        "vector = torch.tensor([7,7])\n",
        "vector"
      ],
      "metadata": {
        "colab": {
          "base_uri": "https://localhost:8080/"
        },
        "id": "uk6t2hIXnTFZ",
        "outputId": "8fd77465-08d8-46c2-dc6f-ab140de0f0fb"
      },
      "execution_count": null,
      "outputs": [
        {
          "output_type": "execute_result",
          "data": {
            "text/plain": [
              "tensor([7, 7])"
            ]
          },
          "metadata": {},
          "execution_count": 14
        }
      ]
    },
    {
      "cell_type": "code",
      "source": [
        "vector.ndim #we can understand the dimention of a tensor by looking at the square brackers"
      ],
      "metadata": {
        "colab": {
          "base_uri": "https://localhost:8080/"
        },
        "id": "mrLyTAPKn2Y5",
        "outputId": "293fef40-f9eb-4be7-f408-0b271dc844ea"
      },
      "execution_count": null,
      "outputs": [
        {
          "output_type": "execute_result",
          "data": {
            "text/plain": [
              "1"
            ]
          },
          "metadata": {},
          "execution_count": 15
        }
      ]
    },
    {
      "cell_type": "code",
      "source": [
        "vector.shape"
      ],
      "metadata": {
        "colab": {
          "base_uri": "https://localhost:8080/"
        },
        "id": "AE608t-4n5GU",
        "outputId": "b83de076-8df8-47e0-ad3d-4c34d223e62f"
      },
      "execution_count": null,
      "outputs": [
        {
          "output_type": "execute_result",
          "data": {
            "text/plain": [
              "torch.Size([2])"
            ]
          },
          "metadata": {},
          "execution_count": 16
        }
      ]
    },
    {
      "cell_type": "code",
      "source": [
        "#matrix\n",
        "matrix = torch.tensor([[1,2],[3,4]])\n",
        "matrix"
      ],
      "metadata": {
        "colab": {
          "base_uri": "https://localhost:8080/"
        },
        "id": "Hu6EULnXoKT-",
        "outputId": "64faadb9-954a-48a6-b610-faaa5278b5ff"
      },
      "execution_count": null,
      "outputs": [
        {
          "output_type": "execute_result",
          "data": {
            "text/plain": [
              "tensor([[1, 2],\n",
              "        [3, 4]])"
            ]
          },
          "metadata": {},
          "execution_count": 19
        }
      ]
    },
    {
      "cell_type": "code",
      "source": [
        "matrix.ndim"
      ],
      "metadata": {
        "colab": {
          "base_uri": "https://localhost:8080/"
        },
        "id": "WLK_rhbNoXkN",
        "outputId": "438e947b-7b62-48b6-f187-5c99b7dbccec"
      },
      "execution_count": null,
      "outputs": [
        {
          "output_type": "execute_result",
          "data": {
            "text/plain": [
              "2"
            ]
          },
          "metadata": {},
          "execution_count": 20
        }
      ]
    },
    {
      "cell_type": "code",
      "source": [
        "matrix.shape"
      ],
      "metadata": {
        "colab": {
          "base_uri": "https://localhost:8080/"
        },
        "id": "aWzXChKSofjB",
        "outputId": "143908f8-e2bd-45f5-f8c5-f8b2ff201732"
      },
      "execution_count": null,
      "outputs": [
        {
          "output_type": "execute_result",
          "data": {
            "text/plain": [
              "torch.Size([2, 2])"
            ]
          },
          "metadata": {},
          "execution_count": 21
        }
      ]
    },
    {
      "cell_type": "code",
      "source": [
        " #tensor\n",
        "tensor = torch.tensor([[[1,2,3],[4,5,6],[7,8,9]],\n",
        "                       [[1,2,3],[4,5,6],[7,8,9]]])\n",
        "tensor"
      ],
      "metadata": {
        "colab": {
          "base_uri": "https://localhost:8080/"
        },
        "id": "wC0HCs3dojNO",
        "outputId": "bc5b9f57-e3f7-48be-a34e-eb1848784949"
      },
      "execution_count": null,
      "outputs": [
        {
          "output_type": "execute_result",
          "data": {
            "text/plain": [
              "tensor([[[1, 2, 3],\n",
              "         [4, 5, 6],\n",
              "         [7, 8, 9]],\n",
              "\n",
              "        [[1, 2, 3],\n",
              "         [4, 5, 6],\n",
              "         [7, 8, 9]]])"
            ]
          },
          "metadata": {},
          "execution_count": 27
        }
      ]
    },
    {
      "cell_type": "code",
      "source": [
        "tensor.ndim"
      ],
      "metadata": {
        "colab": {
          "base_uri": "https://localhost:8080/"
        },
        "id": "PrjQ21TTow3M",
        "outputId": "e912cae3-8e46-4585-8ec0-90e99c6b5b6e"
      },
      "execution_count": null,
      "outputs": [
        {
          "output_type": "execute_result",
          "data": {
            "text/plain": [
              "3"
            ]
          },
          "metadata": {},
          "execution_count": 28
        }
      ]
    },
    {
      "cell_type": "code",
      "source": [
        "tensor.shape"
      ],
      "metadata": {
        "colab": {
          "base_uri": "https://localhost:8080/"
        },
        "id": "0qSUDwNwo2q9",
        "outputId": "e2e45695-57f7-47a0-87a0-c62841d02b4e"
      },
      "execution_count": null,
      "outputs": [
        {
          "output_type": "execute_result",
          "data": {
            "text/plain": [
              "torch.Size([2, 3, 3])"
            ]
          },
          "metadata": {},
          "execution_count": 29
        }
      ]
    },
    {
      "cell_type": "code",
      "source": [
        "#Creating a random tensor of size (3,4)\n",
        "rand_tensor = torch.rand(size=(224, 224, 3))\n",
        "rand_tensor , rand_tensor.ndim"
      ],
      "metadata": {
        "colab": {
          "base_uri": "https://localhost:8080/"
        },
        "id": "-PIeIzFOo4AW",
        "outputId": "909f309a-6ba2-4ca2-db48-c53de8910f8f"
      },
      "execution_count": null,
      "outputs": [
        {
          "output_type": "execute_result",
          "data": {
            "text/plain": [
              "(tensor([[[0.8325, 0.3787, 0.3156],\n",
              "          [0.7926, 0.1013, 0.3185],\n",
              "          [0.9897, 0.6479, 0.7819],\n",
              "          ...,\n",
              "          [0.6481, 0.2944, 0.3672],\n",
              "          [0.8251, 0.8889, 0.9015],\n",
              "          [0.8839, 0.4419, 0.5250]],\n",
              " \n",
              "         [[0.7116, 0.2830, 0.3614],\n",
              "          [0.5555, 0.9953, 0.0498],\n",
              "          [0.2092, 0.6688, 0.3165],\n",
              "          ...,\n",
              "          [0.0635, 0.4931, 0.1071],\n",
              "          [0.9673, 0.2667, 0.3872],\n",
              "          [0.9903, 0.5406, 0.5470]],\n",
              " \n",
              "         [[0.3083, 0.2341, 0.2684],\n",
              "          [0.7257, 0.3958, 0.4843],\n",
              "          [0.0182, 0.2498, 0.5621],\n",
              "          ...,\n",
              "          [0.1810, 0.6235, 0.0661],\n",
              "          [0.0506, 0.3065, 0.3197],\n",
              "          [0.6065, 0.9158, 0.3788]],\n",
              " \n",
              "         ...,\n",
              " \n",
              "         [[0.2039, 0.4973, 0.0580],\n",
              "          [0.6581, 0.3973, 0.8746],\n",
              "          [0.2149, 0.2074, 0.4767],\n",
              "          ...,\n",
              "          [0.1782, 0.8027, 0.0210],\n",
              "          [0.0784, 0.5230, 0.6859],\n",
              "          [0.1267, 0.7104, 0.9696]],\n",
              " \n",
              "         [[0.6247, 0.5269, 0.9722],\n",
              "          [0.3768, 0.3145, 0.0816],\n",
              "          [0.0461, 0.7135, 0.3990],\n",
              "          ...,\n",
              "          [0.2674, 0.8931, 0.4196],\n",
              "          [0.5953, 0.5917, 0.6425],\n",
              "          [0.2528, 0.1323, 0.3414]],\n",
              " \n",
              "         [[0.2118, 0.1690, 0.6436],\n",
              "          [0.6997, 0.2832, 0.1974],\n",
              "          [0.1903, 0.9379, 0.2664],\n",
              "          ...,\n",
              "          [0.3853, 0.3107, 0.6073],\n",
              "          [0.9510, 0.1217, 0.0380],\n",
              "          [0.8611, 0.6737, 0.6498]]]), 3)"
            ]
          },
          "metadata": {},
          "execution_count": 36
        }
      ]
    },
    {
      "cell_type": "code",
      "source": [
        "rand_tensor.shape"
      ],
      "metadata": {
        "colab": {
          "base_uri": "https://localhost:8080/"
        },
        "id": "4ri-MD3hqsaJ",
        "outputId": "425473ff-877b-40f2-f5de-5f4a8431604b"
      },
      "execution_count": null,
      "outputs": [
        {
          "output_type": "execute_result",
          "data": {
            "text/plain": [
              "torch.Size([224, 224, 3])"
            ]
          },
          "metadata": {},
          "execution_count": 34
        }
      ]
    },
    {
      "cell_type": "code",
      "source": [
        "zeros = torch.zeros(size = (3,200,200))\n",
        "zeros"
      ],
      "metadata": {
        "colab": {
          "base_uri": "https://localhost:8080/"
        },
        "id": "Ku9y6fPerGC5",
        "outputId": "de6e6b11-e33f-45a7-8994-86cdcf90adfc"
      },
      "execution_count": null,
      "outputs": [
        {
          "output_type": "execute_result",
          "data": {
            "text/plain": [
              "tensor([[[0., 0., 0.,  ..., 0., 0., 0.],\n",
              "         [0., 0., 0.,  ..., 0., 0., 0.],\n",
              "         [0., 0., 0.,  ..., 0., 0., 0.],\n",
              "         ...,\n",
              "         [0., 0., 0.,  ..., 0., 0., 0.],\n",
              "         [0., 0., 0.,  ..., 0., 0., 0.],\n",
              "         [0., 0., 0.,  ..., 0., 0., 0.]],\n",
              "\n",
              "        [[0., 0., 0.,  ..., 0., 0., 0.],\n",
              "         [0., 0., 0.,  ..., 0., 0., 0.],\n",
              "         [0., 0., 0.,  ..., 0., 0., 0.],\n",
              "         ...,\n",
              "         [0., 0., 0.,  ..., 0., 0., 0.],\n",
              "         [0., 0., 0.,  ..., 0., 0., 0.],\n",
              "         [0., 0., 0.,  ..., 0., 0., 0.]],\n",
              "\n",
              "        [[0., 0., 0.,  ..., 0., 0., 0.],\n",
              "         [0., 0., 0.,  ..., 0., 0., 0.],\n",
              "         [0., 0., 0.,  ..., 0., 0., 0.],\n",
              "         ...,\n",
              "         [0., 0., 0.,  ..., 0., 0., 0.],\n",
              "         [0., 0., 0.,  ..., 0., 0., 0.],\n",
              "         [0., 0., 0.,  ..., 0., 0., 0.]]])"
            ]
          },
          "metadata": {},
          "execution_count": 38
        }
      ]
    },
    {
      "cell_type": "code",
      "source": [
        "ones = torch.ones(size = (3,200,200))\n",
        "ones"
      ],
      "metadata": {
        "colab": {
          "base_uri": "https://localhost:8080/"
        },
        "id": "xmvrzyTnrnWb",
        "outputId": "bc7a3990-5c3d-40fd-b470-e8a9c8de8f85"
      },
      "execution_count": null,
      "outputs": [
        {
          "output_type": "execute_result",
          "data": {
            "text/plain": [
              "tensor([[[1., 1., 1.,  ..., 1., 1., 1.],\n",
              "         [1., 1., 1.,  ..., 1., 1., 1.],\n",
              "         [1., 1., 1.,  ..., 1., 1., 1.],\n",
              "         ...,\n",
              "         [1., 1., 1.,  ..., 1., 1., 1.],\n",
              "         [1., 1., 1.,  ..., 1., 1., 1.],\n",
              "         [1., 1., 1.,  ..., 1., 1., 1.]],\n",
              "\n",
              "        [[1., 1., 1.,  ..., 1., 1., 1.],\n",
              "         [1., 1., 1.,  ..., 1., 1., 1.],\n",
              "         [1., 1., 1.,  ..., 1., 1., 1.],\n",
              "         ...,\n",
              "         [1., 1., 1.,  ..., 1., 1., 1.],\n",
              "         [1., 1., 1.,  ..., 1., 1., 1.],\n",
              "         [1., 1., 1.,  ..., 1., 1., 1.]],\n",
              "\n",
              "        [[1., 1., 1.,  ..., 1., 1., 1.],\n",
              "         [1., 1., 1.,  ..., 1., 1., 1.],\n",
              "         [1., 1., 1.,  ..., 1., 1., 1.],\n",
              "         ...,\n",
              "         [1., 1., 1.,  ..., 1., 1., 1.],\n",
              "         [1., 1., 1.,  ..., 1., 1., 1.],\n",
              "         [1., 1., 1.,  ..., 1., 1., 1.]]])"
            ]
          },
          "metadata": {},
          "execution_count": 39
        }
      ]
    },
    {
      "cell_type": "code",
      "source": [
        "#creating a range and tensors like\n",
        "# range 0 to 10 we can use torch.arange(start,end,step)\n",
        "arange = torch.arange(0,10,1)\n",
        "arange"
      ],
      "metadata": {
        "colab": {
          "base_uri": "https://localhost:8080/"
        },
        "id": "Lv5N8sv6rs-A",
        "outputId": "5dc1c88d-446d-42bb-adb1-d9d38382a530"
      },
      "execution_count": null,
      "outputs": [
        {
          "output_type": "execute_result",
          "data": {
            "text/plain": [
              "tensor([0, 1, 2, 3, 4, 5, 6, 7, 8, 9])"
            ]
          },
          "metadata": {},
          "execution_count": 41
        }
      ]
    },
    {
      "cell_type": "code",
      "source": [
        "#sometimes we need to make another tensor (fill with zeros or ones) with same shape of tensor we had already\n",
        "zeros_like = torch.zeros_like(zeros)\n",
        "zeros_like"
      ],
      "metadata": {
        "colab": {
          "base_uri": "https://localhost:8080/"
        },
        "id": "ze1sXzDVsKLn",
        "outputId": "e4265b88-e135-4cf1-e9aa-34d044c67d88"
      },
      "execution_count": null,
      "outputs": [
        {
          "output_type": "execute_result",
          "data": {
            "text/plain": [
              "tensor([[[0., 0., 0.,  ..., 0., 0., 0.],\n",
              "         [0., 0., 0.,  ..., 0., 0., 0.],\n",
              "         [0., 0., 0.,  ..., 0., 0., 0.],\n",
              "         ...,\n",
              "         [0., 0., 0.,  ..., 0., 0., 0.],\n",
              "         [0., 0., 0.,  ..., 0., 0., 0.],\n",
              "         [0., 0., 0.,  ..., 0., 0., 0.]],\n",
              "\n",
              "        [[0., 0., 0.,  ..., 0., 0., 0.],\n",
              "         [0., 0., 0.,  ..., 0., 0., 0.],\n",
              "         [0., 0., 0.,  ..., 0., 0., 0.],\n",
              "         ...,\n",
              "         [0., 0., 0.,  ..., 0., 0., 0.],\n",
              "         [0., 0., 0.,  ..., 0., 0., 0.],\n",
              "         [0., 0., 0.,  ..., 0., 0., 0.]],\n",
              "\n",
              "        [[0., 0., 0.,  ..., 0., 0., 0.],\n",
              "         [0., 0., 0.,  ..., 0., 0., 0.],\n",
              "         [0., 0., 0.,  ..., 0., 0., 0.],\n",
              "         ...,\n",
              "         [0., 0., 0.,  ..., 0., 0., 0.],\n",
              "         [0., 0., 0.,  ..., 0., 0., 0.],\n",
              "         [0., 0., 0.,  ..., 0., 0., 0.]]])"
            ]
          },
          "metadata": {},
          "execution_count": 42
        }
      ]
    },
    {
      "cell_type": "code",
      "source": [
        "# there are many different datatypes some for cpu some for gpu\n",
        "#if it start with torch.cuda then its for GPU\n",
        "# torch.float16 or torch.half\n",
        "#torch.float64 or torch.double\n",
        "\n",
        "float_32_tensor = torch.tensor([3.0, 6.0, 9.0],\n",
        "                               dtype=None, # defaults to None, which is torch.float32 or whatever datatype is passed\n",
        "                               device=None, # defaults to None, which uses the default tensor type\n",
        "                               requires_grad=False) # if True, operations perfromed on the tensor are recorded \n",
        "\n",
        "float_32_tensor.shape, float_32_tensor.dtype, float_32_tensor.device\n",
        "\n",
        "#most common errors are coming from \"type,device,shape doenst match\""
      ],
      "metadata": {
        "colab": {
          "base_uri": "https://localhost:8080/"
        },
        "id": "Zp8TY8imskxr",
        "outputId": "2e622b0b-e778-41d1-f35b-59051a36333c"
      },
      "execution_count": null,
      "outputs": [
        {
          "output_type": "execute_result",
          "data": {
            "text/plain": [
              "(torch.Size([3]), torch.float32, device(type='cpu'))"
            ]
          },
          "metadata": {},
          "execution_count": 43
        }
      ]
    },
    {
      "cell_type": "code",
      "source": [
        "float_16_tensor = torch.tensor([3.0, 6.0, 9.0],\n",
        "                               dtype=torch.float16) # torch.half would also work\n",
        "\n",
        "float_16_tensor.dtype"
      ],
      "metadata": {
        "colab": {
          "base_uri": "https://localhost:8080/"
        },
        "id": "NodkSt8c3I6f",
        "outputId": "eab8948c-35ec-44a1-af2c-7c95824088aa"
      },
      "execution_count": null,
      "outputs": [
        {
          "output_type": "execute_result",
          "data": {
            "text/plain": [
              "torch.float16"
            ]
          },
          "metadata": {},
          "execution_count": 50
        }
      ]
    },
    {
      "cell_type": "code",
      "source": [
        "#always check these to get info about a tensor\n",
        "#\"shape,dtype,device\"\n",
        "\n",
        "# Create a tensor\n",
        "some_tensor = torch.rand(3, 4)\n",
        "\n",
        "# Find out details about it\n",
        "print(some_tensor)\n",
        "print(f\"Shape of tensor: {some_tensor.shape}\")\n",
        "print(f\"Datatype of tensor: {some_tensor.dtype}\")\n",
        "print(f\"Device tensor is stored on: {some_tensor.device}\") # will default to CPU"
      ],
      "metadata": {
        "colab": {
          "base_uri": "https://localhost:8080/"
        },
        "id": "0RHOziAk3_NB",
        "outputId": "209057dd-8317-482a-cd0d-2fe6e51f7e70"
      },
      "execution_count": null,
      "outputs": [
        {
          "output_type": "stream",
          "name": "stdout",
          "text": [
            "tensor([[0.6706, 0.4496, 0.6592, 0.1607],\n",
            "        [0.8978, 0.4418, 0.8925, 0.7053],\n",
            "        [0.5538, 0.9307, 0.8249, 0.7063]])\n",
            "Shape of tensor: torch.Size([3, 4])\n",
            "Datatype of tensor: torch.float32\n",
            "Device tensor is stored on: cpu\n"
          ]
        }
      ]
    },
    {
      "cell_type": "markdown",
      "source": [
        "##BASİC OPS İN MATRİX"
      ],
      "metadata": {
        "id": "pP2fKcQFdTEE"
      }
    },
    {
      "cell_type": "code",
      "source": [
        "# basic tensor operations\n",
        "tensor = torch.tensor([1, 2, 3])\n",
        "tensor + 10\n",
        "tensor * 10\n",
        "tensor = tensor - 10 #only this one change the tensor\n",
        "tensor"
      ],
      "metadata": {
        "colab": {
          "base_uri": "https://localhost:8080/"
        },
        "id": "-Kw7YeVh4gLD",
        "outputId": "97d8c939-b16d-46e8-ec1a-14d3b424676f"
      },
      "execution_count": null,
      "outputs": [
        {
          "output_type": "execute_result",
          "data": {
            "text/plain": [
              "tensor([-9, -8, -7])"
            ]
          },
          "metadata": {},
          "execution_count": 55
        }
      ]
    },
    {
      "cell_type": "code",
      "source": [
        "tensor=torch.multiply(tensor, 10)\n",
        "tensor"
      ],
      "metadata": {
        "colab": {
          "base_uri": "https://localhost:8080/"
        },
        "id": "Km2zh51H96np",
        "outputId": "3e77ae6b-4f21-4c0e-9d48-f8ceef72f1d4"
      },
      "execution_count": null,
      "outputs": [
        {
          "output_type": "execute_result",
          "data": {
            "text/plain": [
              "tensor([-90, -80, -70])"
            ]
          },
          "metadata": {},
          "execution_count": 57
        }
      ]
    },
    {
      "cell_type": "code",
      "source": [
        "#matrix multiplication\n",
        "\"\"\" (3, 2) @ (3, 2) won't work\n",
        "    (2, 3) @ (3, 2) will work  -> (2, 2)  \"\"\""
      ],
      "metadata": {
        "id": "yFjMZQv--FSF"
      },
      "execution_count": null,
      "outputs": []
    },
    {
      "cell_type": "code",
      "source": [
        "tensor = torch.tensor([1, 2, 3])\n",
        "tensor.shape"
      ],
      "metadata": {
        "colab": {
          "base_uri": "https://localhost:8080/"
        },
        "id": "RyMjcGYO_xRx",
        "outputId": "5fbf2620-4c78-41dc-9207-c6e7bc0a5ecf"
      },
      "execution_count": null,
      "outputs": [
        {
          "output_type": "execute_result",
          "data": {
            "text/plain": [
              "torch.Size([3])"
            ]
          },
          "metadata": {},
          "execution_count": 58
        }
      ]
    },
    {
      "cell_type": "code",
      "source": [
        "tensor * tensor"
      ],
      "metadata": {
        "colab": {
          "base_uri": "https://localhost:8080/"
        },
        "id": "WpoJ1cqY_6K1",
        "outputId": "d5ee4cc2-903c-48c3-80b7-741850accdad"
      },
      "execution_count": null,
      "outputs": [
        {
          "output_type": "execute_result",
          "data": {
            "text/plain": [
              "tensor([1, 4, 9])"
            ]
          },
          "metadata": {},
          "execution_count": 59
        }
      ]
    },
    {
      "cell_type": "code",
      "source": [
        "#both do the same thing (1*1 + 2*2 + 3*3)\n",
        "torch.matmul(tensor,tensor)\n",
        "tensor @ tensor"
      ],
      "metadata": {
        "colab": {
          "base_uri": "https://localhost:8080/"
        },
        "id": "BmdVlwDM_7z-",
        "outputId": "c5898ae5-0526-4946-b1ca-ec12140a49d8"
      },
      "execution_count": null,
      "outputs": [
        {
          "output_type": "execute_result",
          "data": {
            "text/plain": [
              "tensor(14)"
            ]
          },
          "metadata": {},
          "execution_count": 61
        }
      ]
    },
    {
      "cell_type": "code",
      "source": [
        "# Shapes need to be in the right way  \n",
        "tensor_A = torch.tensor([[1, 2], #3x2\n",
        "                         [3, 4],\n",
        "                         [5, 6]], dtype=torch.float32)\n",
        "\n",
        "tensor_B = torch.tensor([[7, 10], #3x2\n",
        "                         [8, 11], \n",
        "                         [9, 12]], dtype=torch.float32)\n",
        "\n",
        "out = torch.matmul(tensor_A, tensor_B.T) # to make this matmul possibile we need to use transpose \n",
        "out # 3x3 "
      ],
      "metadata": {
        "colab": {
          "base_uri": "https://localhost:8080/"
        },
        "id": "ovt0lHTtAFyf",
        "outputId": "19364daa-227c-4dee-f170-ebd24b777a47"
      },
      "execution_count": null,
      "outputs": [
        {
          "output_type": "execute_result",
          "data": {
            "text/plain": [
              "tensor([[ 27.,  30.,  33.],\n",
              "        [ 61.,  68.,  75.],\n",
              "        [ 95., 106., 117.]])"
            ]
          },
          "metadata": {},
          "execution_count": 65
        }
      ]
    },
    {
      "cell_type": "code",
      "source": [
        "#torch.mm() -> short of matmul doing the same thing "
      ],
      "metadata": {
        "id": "j7yLgrawAjsr"
      },
      "execution_count": null,
      "outputs": []
    },
    {
      "cell_type": "code",
      "source": [
        "# Since the linear layer starts with a random weights matrix, let's make it reproducible (more on this later)\n",
        "torch.manual_seed(42)\n",
        "# This uses matrix mutliplcation\n",
        "linear = torch.nn.Linear(in_features=2, # in_features = matches inner dimension of input \n",
        "                         out_features=6) # out_features = describes outer value \n",
        "x = tensor_A\n",
        "output = linear(x)\n",
        "print(f\"Input shape: {x.shape}\\n\")\n",
        "print(f\"Output:\\n{output}\\n\\nOutput shape: {output.shape}\")"
      ],
      "metadata": {
        "colab": {
          "base_uri": "https://localhost:8080/"
        },
        "id": "OmT_MlxYGySe",
        "outputId": "61d9fc73-9849-4c15-b8e4-a3832fe8d1f4"
      },
      "execution_count": null,
      "outputs": [
        {
          "output_type": "stream",
          "name": "stdout",
          "text": [
            "Input shape: torch.Size([3, 2])\n",
            "\n",
            "Output:\n",
            "tensor([[2.2368, 1.2292, 0.4714, 0.3864, 0.1309, 0.9838],\n",
            "        [4.4919, 2.1970, 0.4469, 0.5285, 0.3401, 2.4777],\n",
            "        [6.7469, 3.1648, 0.4224, 0.6705, 0.5493, 3.9716]],\n",
            "       grad_fn=<AddmmBackward0>)\n",
            "\n",
            "Output shape: torch.Size([3, 6])\n"
          ]
        }
      ]
    },
    {
      "cell_type": "markdown",
      "source": [
        "## min, max, mean, ARGMİN ARGMAX"
      ],
      "metadata": {
        "id": "pUrdiRvKdKwF"
      }
    },
    {
      "cell_type": "code",
      "source": [
        "#aggregation min,max,sum,mean\n",
        "x = torch.arange(0, 100, 10)\n",
        "x"
      ],
      "metadata": {
        "colab": {
          "base_uri": "https://localhost:8080/"
        },
        "id": "D8dsKon_NVqu",
        "outputId": "9867fa70-2790-4fab-a8db-1f93bd8aef00"
      },
      "execution_count": null,
      "outputs": [
        {
          "output_type": "execute_result",
          "data": {
            "text/plain": [
              "tensor([ 0, 10, 20, 30, 40, 50, 60, 70, 80, 90])"
            ]
          },
          "metadata": {},
          "execution_count": 67
        }
      ]
    },
    {
      "cell_type": "code",
      "source": [
        "print(f\"Minimum: {x.min()}\")\n",
        "print(f\"Maximum: {x.max()}\")\n",
        "#print(f\"Mean: {x.mean()}\") # this will error\n",
        "print(f\"Mean: {x.type(torch.float32).mean()}\") # won't work without float datatype\n",
        "print(f\"Sum: {x.sum()}\")"
      ],
      "metadata": {
        "colab": {
          "base_uri": "https://localhost:8080/"
        },
        "id": "Nmf1U4_TNdHp",
        "outputId": "0962d9e3-041b-40fc-b752-ee43fce09f7b"
      },
      "execution_count": null,
      "outputs": [
        {
          "output_type": "stream",
          "name": "stdout",
          "text": [
            "Minimum: 0\n",
            "Maximum: 90\n",
            "Mean: 45.0\n",
            "Sum: 450\n"
          ]
        }
      ]
    },
    {
      "cell_type": "code",
      "source": [
        "torch.max(x), torch.min(x), torch.mean(x.type(torch.float32)), torch.sum(x)"
      ],
      "metadata": {
        "colab": {
          "base_uri": "https://localhost:8080/"
        },
        "id": "SAAEjBpaNkui",
        "outputId": "46f390d7-de96-40bb-dffe-5caa0b7fc9ed"
      },
      "execution_count": null,
      "outputs": [
        {
          "output_type": "execute_result",
          "data": {
            "text/plain": [
              "(tensor(90), tensor(0), tensor(45.), tensor(450))"
            ]
          },
          "metadata": {},
          "execution_count": 71
        }
      ]
    },
    {
      "cell_type": "code",
      "source": [
        "# Create a tensor\n",
        "tensor = torch.arange(10, 100, 10)\n",
        "print(f\"Tensor: {tensor}\")\n",
        "\n",
        "# Returns index of max and min values\n",
        "print(f\"Index where max value occurs: {tensor.argmax()}\")\n",
        "print(f\"Index where min value occurs: {tensor.argmin()}\")"
      ],
      "metadata": {
        "colab": {
          "base_uri": "https://localhost:8080/"
        },
        "id": "Hl2Tzj2qccEU",
        "outputId": "beaa255b-9352-4f84-9a37-f1082a76efef"
      },
      "execution_count": null,
      "outputs": [
        {
          "output_type": "stream",
          "name": "stdout",
          "text": [
            "Tensor: tensor([10, 20, 30, 40, 50, 60, 70, 80, 90])\n",
            "Index where max value occurs: 8\n",
            "Index where min value occurs: 0\n"
          ]
        }
      ]
    },
    {
      "cell_type": "markdown",
      "source": [
        "##Change the datatypes of tensors using torch.Tensor.type(dtype=None)"
      ],
      "metadata": {
        "id": "xN-siERsdDau"
      }
    },
    {
      "cell_type": "code",
      "source": [
        "\n",
        "tensor = torch.arange(10., 100., 10.)\n",
        "tensor.dtype"
      ],
      "metadata": {
        "colab": {
          "base_uri": "https://localhost:8080/"
        },
        "id": "o2BsCTD7cnZz",
        "outputId": "d53d4d4c-e09e-404c-d663-9bc66ea1bd67"
      },
      "execution_count": null,
      "outputs": [
        {
          "output_type": "execute_result",
          "data": {
            "text/plain": [
              "torch.float32"
            ]
          },
          "metadata": {},
          "execution_count": 73
        }
      ]
    },
    {
      "cell_type": "code",
      "source": [
        "tensor.type(dtype=torch.float64)"
      ],
      "metadata": {
        "colab": {
          "base_uri": "https://localhost:8080/"
        },
        "id": "ABM5xwI1cr3s",
        "outputId": "4d29a713-7f35-440f-869d-b83bebd5c8a8"
      },
      "execution_count": null,
      "outputs": [
        {
          "output_type": "execute_result",
          "data": {
            "text/plain": [
              "tensor([10., 20., 30., 40., 50., 60., 70., 80., 90.], dtype=torch.float64)"
            ]
          },
          "metadata": {},
          "execution_count": 80
        }
      ]
    },
    {
      "cell_type": "markdown",
      "source": [
        "##Reshaping, stacking, squeezing and unsqueezing\n",
        "![Ekran görüntüsü 2022-09-27 142055.png](data:image/png;base64,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)"
      ],
      "metadata": {
        "id": "sZYoaBpIrAkO"
      }
    },
    {
      "cell_type": "code",
      "source": [
        "# Create a tensor\n",
        "import torch\n",
        "x = torch.arange(1., 9.)\n",
        "x, x.shape"
      ],
      "metadata": {
        "id": "zR3YEWwUcwAg",
        "colab": {
          "base_uri": "https://localhost:8080/"
        },
        "outputId": "5bef84df-47db-42a3-9444-b2fca4ad6c79"
      },
      "execution_count": null,
      "outputs": [
        {
          "output_type": "execute_result",
          "data": {
            "text/plain": [
              "(tensor([1., 2., 3., 4., 5., 6., 7., 8.]), torch.Size([8]))"
            ]
          },
          "metadata": {},
          "execution_count": 4
        }
      ]
    },
    {
      "cell_type": "code",
      "source": [
        "#add extra dim\n",
        "x_reshaped = x.reshape(4,2)\n",
        "x_reshaped,x_reshaped.shape"
      ],
      "metadata": {
        "colab": {
          "base_uri": "https://localhost:8080/"
        },
        "id": "0LL6mdKErqH0",
        "outputId": "413fca05-4b32-4e9c-881c-7e781a85c8b1"
      },
      "execution_count": null,
      "outputs": [
        {
          "output_type": "execute_result",
          "data": {
            "text/plain": [
              "(tensor([[1., 2.],\n",
              "         [3., 4.],\n",
              "         [5., 6.],\n",
              "         [7., 8.]]), torch.Size([4, 2]))"
            ]
          },
          "metadata": {},
          "execution_count": 11
        }
      ]
    },
    {
      "cell_type": "code",
      "source": [
        "x_reshaped[3,1] = 99\n",
        "x_reshaped"
      ],
      "metadata": {
        "colab": {
          "base_uri": "https://localhost:8080/"
        },
        "id": "1EfIPCwOv4mF",
        "outputId": "7d79d68b-43aa-4f77-97d9-324f19b84229"
      },
      "execution_count": null,
      "outputs": [
        {
          "output_type": "execute_result",
          "data": {
            "text/plain": [
              "tensor([[ 1.,  2.],\n",
              "        [ 3.,  4.],\n",
              "        [ 5.,  6.],\n",
              "        [ 7., 99.]])"
            ]
          },
          "metadata": {},
          "execution_count": 16
        }
      ]
    },
    {
      "cell_type": "code",
      "source": [
        "x"
      ],
      "metadata": {
        "colab": {
          "base_uri": "https://localhost:8080/"
        },
        "id": "Z5KszrZxwBOu",
        "outputId": "ad6087ae-8218-4ae9-dbce-297565a1442a"
      },
      "execution_count": null,
      "outputs": [
        {
          "output_type": "execute_result",
          "data": {
            "text/plain": [
              "tensor([ 1.,  2.,  3.,  4.,  5.,  6.,  7., 99.])"
            ]
          },
          "metadata": {},
          "execution_count": 17
        }
      ]
    },
    {
      "cell_type": "code",
      "source": [
        "#also can view() use\n",
        "z = x.view(2,4)\n",
        "z,z.shape\n",
        "\n"
      ],
      "metadata": {
        "colab": {
          "base_uri": "https://localhost:8080/"
        },
        "id": "jZAB1dEZr4jv",
        "outputId": "f9fe590e-4eca-4dfb-aeae-4419eeb83c12"
      },
      "execution_count": null,
      "outputs": [
        {
          "output_type": "execute_result",
          "data": {
            "text/plain": [
              "(tensor([[ 1.,  2.,  3.,  4.],\n",
              "         [ 5.,  6.,  7., 99.]]), torch.Size([2, 4]))"
            ]
          },
          "metadata": {},
          "execution_count": 18
        }
      ]
    },
    {
      "cell_type": "code",
      "source": [
        "z[1,3] = 0\n",
        "z"
      ],
      "metadata": {
        "colab": {
          "base_uri": "https://localhost:8080/"
        },
        "id": "YexaaF8tsUgL",
        "outputId": "81205973-7b01-4ad0-921c-64ad430d56b8"
      },
      "execution_count": null,
      "outputs": [
        {
          "output_type": "execute_result",
          "data": {
            "text/plain": [
              "tensor([[1., 2., 3., 4.],\n",
              "        [5., 6., 7., 0.]])"
            ]
          },
          "metadata": {},
          "execution_count": 20
        }
      ]
    },
    {
      "cell_type": "code",
      "source": [
        "x"
      ],
      "metadata": {
        "colab": {
          "base_uri": "https://localhost:8080/"
        },
        "id": "GhqfZO_gwPQa",
        "outputId": "671a6c81-66e8-45e0-89f7-7005472904f0"
      },
      "execution_count": null,
      "outputs": [
        {
          "output_type": "execute_result",
          "data": {
            "text/plain": [
              "tensor([1., 2., 3., 4., 5., 6., 7., 0.])"
            ]
          },
          "metadata": {},
          "execution_count": 21
        }
      ]
    },
    {
      "cell_type": "code",
      "source": [
        "# in reshape and view it changes the shape \n",
        "# but it returns as a reference so if u change\n",
        "# a value inside it this will effect to the based tensor as well"
      ],
      "metadata": {
        "id": "DE2LYf5jwaDJ"
      },
      "execution_count": null,
      "outputs": []
    },
    {
      "cell_type": "code",
      "source": [
        "#stack tensors on top of eachother\n",
        "x_stacked = torch.stack([z,z,z,z],dim=0)#on top of\n",
        "x_stacked"
      ],
      "metadata": {
        "colab": {
          "base_uri": "https://localhost:8080/"
        },
        "id": "CH_jzynBwrex",
        "outputId": "f729316e-9b70-4c08-fd42-66cc4822e9bc"
      },
      "execution_count": null,
      "outputs": [
        {
          "output_type": "execute_result",
          "data": {
            "text/plain": [
              "tensor([[[1., 2., 3., 4.],\n",
              "         [5., 6., 7., 0.]],\n",
              "\n",
              "        [[1., 2., 3., 4.],\n",
              "         [5., 6., 7., 0.]],\n",
              "\n",
              "        [[1., 2., 3., 4.],\n",
              "         [5., 6., 7., 0.]],\n",
              "\n",
              "        [[1., 2., 3., 4.],\n",
              "         [5., 6., 7., 0.]]])"
            ]
          },
          "metadata": {},
          "execution_count": 31
        }
      ]
    },
    {
      "cell_type": "code",
      "source": [
        "#stack tensors on top of eachother\n",
        "x_stacked = torch.stack([z,z,z,z],dim=1)#side by side\n",
        "x_stacked"
      ],
      "metadata": {
        "colab": {
          "base_uri": "https://localhost:8080/"
        },
        "id": "Sjz5jCqdw3Gs",
        "outputId": "9a72ad26-fd14-4077-b78a-5507dbfefbea"
      },
      "execution_count": null,
      "outputs": [
        {
          "output_type": "execute_result",
          "data": {
            "text/plain": [
              "tensor([[[1., 2., 3., 4.],\n",
              "         [1., 2., 3., 4.],\n",
              "         [1., 2., 3., 4.],\n",
              "         [1., 2., 3., 4.]],\n",
              "\n",
              "        [[5., 6., 7., 0.],\n",
              "         [5., 6., 7., 0.],\n",
              "         [5., 6., 7., 0.],\n",
              "         [5., 6., 7., 0.]]])"
            ]
          },
          "metadata": {},
          "execution_count": 32
        }
      ]
    },
    {
      "cell_type": "code",
      "source": [
        "x_reshaped = x_reshaped.view(1,8)\n",
        "print(f\"Previous tensor: {x_reshaped}\")\n",
        "print(f\"Previous shape: {x_reshaped.shape}\")\n",
        "\n",
        "# Remove extra dimension from x_reshaped\n",
        "#this ONLY removes single dimentions from tensor\n",
        "\n",
        "x_squeezed = x_reshaped.squeeze()\n",
        "print(f\"\\nNew tensor: {x_squeezed}\")\n",
        "print(f\"New shape: {x_squeezed.shape}\")"
      ],
      "metadata": {
        "colab": {
          "base_uri": "https://localhost:8080/"
        },
        "id": "xnT_XCkGxYjt",
        "outputId": "bacb865f-4e3a-40f2-f29b-cb852163c536"
      },
      "execution_count": null,
      "outputs": [
        {
          "output_type": "stream",
          "name": "stdout",
          "text": [
            "Previous tensor: tensor([[1., 2., 3., 4., 5., 6., 7., 0.]])\n",
            "Previous shape: torch.Size([1, 8])\n",
            "\n",
            "New tensor: tensor([1., 2., 3., 4., 5., 6., 7., 0.])\n",
            "New shape: torch.Size([8])\n"
          ]
        }
      ]
    },
    {
      "cell_type": "code",
      "source": [
        "print(f\"Previous tensor: {x_squeezed}\")\n",
        "print(f\"Previous shape: {x_squeezed.shape}\")\n",
        "\n",
        "## Add an extra dimension with unsqueeze\n",
        "# dim = 0 -> adds a dimension to first dim [8] -> [1,8]\n",
        "# dim = 1 -> adds a dimension to last dim [8] -> [8,1]\n",
        "x_unsqueezed = x_squeezed.unsqueeze(dim=0)\n",
        "print(f\"\\nNew tensor: {x_unsqueezed}\")\n",
        "print(f\"New shape: {x_unsqueezed.shape}\")"
      ],
      "metadata": {
        "colab": {
          "base_uri": "https://localhost:8080/"
        },
        "id": "pCdgNlLTx_fl",
        "outputId": "a3ab222b-1552-412e-d578-c6a4b482e23c"
      },
      "execution_count": null,
      "outputs": [
        {
          "output_type": "stream",
          "name": "stdout",
          "text": [
            "Previous tensor: tensor([1., 2., 3., 4., 5., 6., 7., 0.])\n",
            "Previous shape: torch.Size([8])\n",
            "\n",
            "New tensor: tensor([[1., 2., 3., 4., 5., 6., 7., 0.]])\n",
            "New shape: torch.Size([1, 8])\n"
          ]
        }
      ]
    },
    {
      "cell_type": "code",
      "source": [
        "# rearrenge the order of dimensions from tensor\n",
        "# Create tensor with specific shape\n",
        "#                         dim= 0 ,  1 , 2\n",
        "x_original = torch.rand(size=(500, 250, 3))\n",
        "\n",
        "# Permute the original tensor to rearrange the axis order\n",
        "x_permuted = x_original.permute(2,0,1) # shifts axis 0->1, 1->2, 2->0\n",
        "\n",
        "print(f\"Previous shape: {x_original.shape}\")\n",
        "print(f\"New shape: {x_permuted.shape}\")"
      ],
      "metadata": {
        "colab": {
          "base_uri": "https://localhost:8080/"
        },
        "id": "m__MhO79yWbM",
        "outputId": "5969d406-750c-4554-c4e8-f2f23f2407d3"
      },
      "execution_count": null,
      "outputs": [
        {
          "output_type": "stream",
          "name": "stdout",
          "text": [
            "Previous shape: torch.Size([500, 250, 3])\n",
            "New shape: torch.Size([3, 500, 250])\n"
          ]
        }
      ]
    },
    {
      "cell_type": "markdown",
      "source": [
        "##Indexing (selecting data from tensors)"
      ],
      "metadata": {
        "id": "fJHaotq70CxW"
      }
    },
    {
      "cell_type": "code",
      "source": [
        "# Create a tensor \n",
        "import torch\n",
        "x = torch.arange(1, 10).reshape(1, 3, 3)\n",
        "x, x.shape"
      ],
      "metadata": {
        "colab": {
          "base_uri": "https://localhost:8080/"
        },
        "id": "9aVagoXIzQj4",
        "outputId": "35daa359-f9c3-4ac6-c04b-d1c28e327ca4"
      },
      "execution_count": null,
      "outputs": [
        {
          "output_type": "execute_result",
          "data": {
            "text/plain": [
              "(tensor([[[1, 2, 3],\n",
              "          [4, 5, 6],\n",
              "          [7, 8, 9]]]), torch.Size([1, 3, 3]))"
            ]
          },
          "metadata": {},
          "execution_count": 50
        }
      ]
    },
    {
      "cell_type": "code",
      "source": [
        "# Let's index bracket by bracket\n",
        "print(f\"First square bracket:\\n{x[0]}\") # first matrix\n",
        "print(f\"Second square bracket: {x[0][0]}\") # first vector of first matrix\n",
        "print(f\"Third square bracket: {x[0][0][0]}\") # first element of first vector of first matrix"
      ],
      "metadata": {
        "id": "hF4Gmcvn0JW9"
      },
      "execution_count": null,
      "outputs": []
    },
    {
      "cell_type": "code",
      "source": [
        "# Get all values of 0th dimension and the 0 index of 1st dimension\n",
        "x[:, 0]"
      ],
      "metadata": {
        "colab": {
          "base_uri": "https://localhost:8080/"
        },
        "id": "XTGF9Oe20JdW",
        "outputId": "cb304068-c745-482d-b1b4-46e589cf2393"
      },
      "execution_count": null,
      "outputs": [
        {
          "output_type": "execute_result",
          "data": {
            "text/plain": [
              "tensor([[1, 2, 3]])"
            ]
          },
          "metadata": {},
          "execution_count": 57
        }
      ]
    },
    {
      "cell_type": "code",
      "source": [
        "x[0, 1:3,0] #[matrix,rows,columns]"
      ],
      "metadata": {
        "colab": {
          "base_uri": "https://localhost:8080/"
        },
        "id": "eNKtIIvy0rhR",
        "outputId": "d39dc132-3141-487a-e5e4-0e4e0b2b4e9e"
      },
      "execution_count": null,
      "outputs": [
        {
          "output_type": "execute_result",
          "data": {
            "text/plain": [
              "tensor([4, 7])"
            ]
          },
          "metadata": {},
          "execution_count": 83
        }
      ]
    },
    {
      "cell_type": "code",
      "source": [
        "x[:, 1, 1]\n"
      ],
      "metadata": {
        "colab": {
          "base_uri": "https://localhost:8080/"
        },
        "id": "2nuo2MNm1D54",
        "outputId": "d4c7a2f9-b464-47c5-93fc-aa186ce70844"
      },
      "execution_count": null,
      "outputs": [
        {
          "output_type": "execute_result",
          "data": {
            "text/plain": [
              "tensor([5])"
            ]
          },
          "metadata": {},
          "execution_count": 67
        }
      ]
    },
    {
      "cell_type": "markdown",
      "source": [
        "##PyTorch tensors & NumPy"
      ],
      "metadata": {
        "id": "grwkc8782qiY"
      }
    },
    {
      "cell_type": "code",
      "source": [
        "#  torch.from_numpy(ndarray) - NumPy array -> PyTorch tensor.\n",
        "#  torch.Tensor.numpy() - PyTorch tensor -> NumPy array."
      ],
      "metadata": {
        "id": "6duuZBga2sLk"
      },
      "execution_count": null,
      "outputs": []
    },
    {
      "cell_type": "code",
      "source": [
        "# NumPy array to tensor\n",
        "import torch\n",
        "import numpy as np\n",
        "array = np.arange(1.0, 8.0)\n",
        "tensor = torch.from_numpy(array)\n",
        "\n",
        "# numpy array default float64 and if it changes to tensor this will kept\n",
        "# but mostly pytorch uses float32 so u might want to change it\n",
        "tensor = torch.from_numpy(array).type(torch.float32)\n",
        "# change dtype like this quickly\n",
        "array, tensor"
      ],
      "metadata": {
        "colab": {
          "base_uri": "https://localhost:8080/"
        },
        "id": "4tO1vfqf3T0F",
        "outputId": "31ac1d7e-84ee-4b5c-e437-cb35132d5b87"
      },
      "execution_count": null,
      "outputs": [
        {
          "output_type": "execute_result",
          "data": {
            "text/plain": [
              "(array([1., 2., 3., 4., 5., 6., 7.]), tensor([1., 2., 3., 4., 5., 6., 7.]))"
            ]
          },
          "metadata": {},
          "execution_count": 86
        }
      ]
    },
    {
      "cell_type": "code",
      "source": [
        "# Change the array, keep the tensor\n",
        "array = array + 1\n",
        "array, tensor"
      ],
      "metadata": {
        "colab": {
          "base_uri": "https://localhost:8080/"
        },
        "id": "L-927SgY3q4-",
        "outputId": "a601b3a1-2e21-409b-ca0d-13b828b0f924"
      },
      "execution_count": null,
      "outputs": [
        {
          "output_type": "execute_result",
          "data": {
            "text/plain": [
              "(array([2., 3., 4., 5., 6., 7., 8.]), tensor([1., 2., 3., 4., 5., 6., 7.]))"
            ]
          },
          "metadata": {},
          "execution_count": 87
        }
      ]
    },
    {
      "cell_type": "code",
      "source": [
        "# Tensor to NumPy array\n",
        "tensor = torch.ones(7) # create a tensor of ones with dtype=float32\n",
        "numpy_tensor = tensor.numpy() # will be dtype=float32 unless changed\n",
        "tensor, numpy_tensor"
      ],
      "metadata": {
        "colab": {
          "base_uri": "https://localhost:8080/"
        },
        "id": "ow-mR94HFIMn",
        "outputId": "60914b27-a33c-4137-ce2b-9196df4f3e1a"
      },
      "execution_count": null,
      "outputs": [
        {
          "output_type": "execute_result",
          "data": {
            "text/plain": [
              "(tensor([1., 1., 1., 1., 1., 1., 1.]),\n",
              " array([1., 1., 1., 1., 1., 1., 1.], dtype=float32))"
            ]
          },
          "metadata": {},
          "execution_count": 89
        }
      ]
    },
    {
      "cell_type": "code",
      "source": [
        "# Change the tensor, keep the array the same\n",
        "tensor = tensor + 1\n",
        "tensor, numpy_tensor"
      ],
      "metadata": {
        "colab": {
          "base_uri": "https://localhost:8080/"
        },
        "id": "cGlc-c9pFBmp",
        "outputId": "ec67e53a-1f8d-4672-89a8-b01bd57ff3f8"
      },
      "execution_count": null,
      "outputs": [
        {
          "output_type": "execute_result",
          "data": {
            "text/plain": [
              "(tensor([2., 2., 2., 2., 2., 2., 2.]),\n",
              " array([1., 1., 1., 1., 1., 1., 1.], dtype=float32))"
            ]
          },
          "metadata": {},
          "execution_count": 90
        }
      ]
    },
    {
      "cell_type": "markdown",
      "source": [
        "## Randomness"
      ],
      "metadata": {
        "id": "uTE1726XJvML"
      }
    },
    {
      "cell_type": "code",
      "source": [
        "import torch\n",
        "\n",
        "# Create two random tensors\n",
        "random_tensor_A = torch.rand(3, 4)\n",
        "random_tensor_B = torch.rand(3, 4)\n",
        "\n",
        "print(f\"Tensor A:\\n{random_tensor_A}\\n\")\n",
        "print(f\"Tensor B:\\n{random_tensor_B}\\n\")\n",
        "print(f\"Does Tensor A equal Tensor B? (anywhere)\")\n",
        "random_tensor_A == random_tensor_B"
      ],
      "metadata": {
        "colab": {
          "base_uri": "https://localhost:8080/"
        },
        "id": "VdPk-dpsJwqT",
        "outputId": "0ff69f19-a0ba-4c71-e455-a7dcd7e49d7e"
      },
      "execution_count": null,
      "outputs": [
        {
          "output_type": "stream",
          "name": "stdout",
          "text": [
            "Tensor A:\n",
            "tensor([[0.1364, 0.5867, 0.2998, 0.2012],\n",
            "        [0.5096, 0.1921, 0.2155, 0.3014],\n",
            "        [0.8795, 0.5977, 0.7166, 0.6157]])\n",
            "\n",
            "Tensor B:\n",
            "tensor([[0.6922, 0.8095, 0.6165, 0.3516],\n",
            "        [0.4207, 0.4278, 0.9224, 0.5019],\n",
            "        [0.1712, 0.5458, 0.3691, 0.1727]])\n",
            "\n",
            "Does Tensor A equal Tensor B? (anywhere)\n"
          ]
        },
        {
          "output_type": "execute_result",
          "data": {
            "text/plain": [
              "tensor([[False, False, False, False],\n",
              "        [False, False, False, False],\n",
              "        [False, False, False, False]])"
            ]
          },
          "metadata": {},
          "execution_count": 95
        }
      ]
    },
    {
      "cell_type": "code",
      "source": [
        "import torch\n",
        "import random\n",
        "\n",
        "#random.seed(0) for python\n",
        "#np.random.seed(0) for numpy\n",
        "# # Set the random seed\n",
        "RANDOM_SEED=42 # try changing this to different values and see what happens to the numbers below\n",
        "torch.manual_seed(seed=RANDOM_SEED) \n",
        "random_tensor_C = torch.rand(3, 4)\n",
        "\n",
        "# Have to reset the seed every time a new rand() is called \n",
        "# Without this, tensor_D would be different to tensor_C \n",
        "torch.random.manual_seed(seed=RANDOM_SEED) # try commenting this line out and seeing what happens\n",
        "random_tensor_D = torch.rand(3, 4)\n",
        "\n",
        "print(f\"Tensor C:\\n{random_tensor_C}\\n\")\n",
        "print(f\"Tensor D:\\n{random_tensor_D}\\n\")\n",
        "print(f\"Does Tensor C equal Tensor D? (anywhere)\")\n",
        "random_tensor_C == random_tensor_D\n"
      ],
      "metadata": {
        "colab": {
          "base_uri": "https://localhost:8080/"
        },
        "id": "qKNvVCWUKZJd",
        "outputId": "cfe66156-cbcf-45ab-bcb2-f8d0f7ce8376"
      },
      "execution_count": null,
      "outputs": [
        {
          "output_type": "stream",
          "name": "stdout",
          "text": [
            "Tensor C:\n",
            "tensor([[0.8823, 0.9150, 0.3829, 0.9593],\n",
            "        [0.3904, 0.6009, 0.2566, 0.7936],\n",
            "        [0.9408, 0.1332, 0.9346, 0.5936]])\n",
            "\n",
            "Tensor D:\n",
            "tensor([[0.8823, 0.9150, 0.3829, 0.9593],\n",
            "        [0.3904, 0.6009, 0.2566, 0.7936],\n",
            "        [0.9408, 0.1332, 0.9346, 0.5936]])\n",
            "\n",
            "Does Tensor C equal Tensor D? (anywhere)\n"
          ]
        },
        {
          "output_type": "execute_result",
          "data": {
            "text/plain": [
              "tensor([[True, True, True, True],\n",
              "        [True, True, True, True],\n",
              "        [True, True, True, True]])"
            ]
          },
          "metadata": {},
          "execution_count": 96
        }
      ]
    },
    {
      "cell_type": "markdown",
      "source": [
        "Even we use seed, we might not get the same random numbers if we do it on different device(cpu,gpu)"
      ],
      "metadata": {
        "id": "YoRvWFwyK4E4"
      }
    },
    {
      "cell_type": "markdown",
      "source": [
        "## Running tensors on GPUs (and making faster computations)"
      ],
      "metadata": {
        "id": "G5S5uX7nOn23"
      }
    },
    {
      "cell_type": "code",
      "source": [
        "!nvidia-smi"
      ],
      "metadata": {
        "colab": {
          "base_uri": "https://localhost:8080/"
        },
        "id": "MYi1NsyvKX15",
        "outputId": "b13a1f28-50c6-4876-d891-d3c54cd883d6"
      },
      "execution_count": null,
      "outputs": [
        {
          "output_type": "stream",
          "name": "stdout",
          "text": [
            "Tue Sep 27 13:58:08 2022       \n",
            "+-----------------------------------------------------------------------------+\n",
            "| NVIDIA-SMI 460.32.03    Driver Version: 460.32.03    CUDA Version: 11.2     |\n",
            "|-------------------------------+----------------------+----------------------+\n",
            "| GPU  Name        Persistence-M| Bus-Id        Disp.A | Volatile Uncorr. ECC |\n",
            "| Fan  Temp  Perf  Pwr:Usage/Cap|         Memory-Usage | GPU-Util  Compute M. |\n",
            "|                               |                      |               MIG M. |\n",
            "|===============================+======================+======================|\n",
            "|   0  Tesla T4            Off  | 00000000:00:04.0 Off |                    0 |\n",
            "| N/A   45C    P8     9W /  70W |      0MiB / 15109MiB |      0%      Default |\n",
            "|                               |                      |                  N/A |\n",
            "+-------------------------------+----------------------+----------------------+\n",
            "                                                                               \n",
            "+-----------------------------------------------------------------------------+\n",
            "| Processes:                                                                  |\n",
            "|  GPU   GI   CI        PID   Type   Process name                  GPU Memory |\n",
            "|        ID   ID                                                   Usage      |\n",
            "|=============================================================================|\n",
            "|  No running processes found                                                 |\n",
            "+-----------------------------------------------------------------------------+\n"
          ]
        }
      ]
    },
    {
      "cell_type": "code",
      "source": [
        "# Check for GPU\n",
        "import torch\n",
        "torch.cuda.is_available()"
      ],
      "metadata": {
        "colab": {
          "base_uri": "https://localhost:8080/"
        },
        "id": "792FzFZqJ7sq",
        "outputId": "1c746b71-2fa7-46d3-a254-6676842b067a"
      },
      "execution_count": null,
      "outputs": [
        {
          "output_type": "execute_result",
          "data": {
            "text/plain": [
              "True"
            ]
          },
          "metadata": {},
          "execution_count": 2
        }
      ]
    },
    {
      "cell_type": "code",
      "source": [
        "# Set device type\n",
        "device = \"cuda\" if torch.cuda.is_available() else \"cpu\"\n",
        "device"
      ],
      "metadata": {
        "colab": {
          "base_uri": "https://localhost:8080/",
          "height": 35
        },
        "id": "1h1d3rIWPqhs",
        "outputId": "f8be841a-98f3-4aa5-e6ea-024dd719ab5f"
      },
      "execution_count": null,
      "outputs": [
        {
          "output_type": "execute_result",
          "data": {
            "text/plain": [
              "'cuda'"
            ],
            "application/vnd.google.colaboratory.intrinsic+json": {
              "type": "string"
            }
          },
          "metadata": {},
          "execution_count": 3
        }
      ]
    },
    {
      "cell_type": "code",
      "source": [
        "# Count number of devices\n",
        "torch.cuda.device_count()"
      ],
      "metadata": {
        "colab": {
          "base_uri": "https://localhost:8080/"
        },
        "id": "JBWtJ2khP0of",
        "outputId": "8416070d-f66a-44e9-d2ab-5a9cf3afd40f"
      },
      "execution_count": null,
      "outputs": [
        {
          "output_type": "execute_result",
          "data": {
            "text/plain": [
              "1"
            ]
          },
          "metadata": {},
          "execution_count": 4
        }
      ]
    },
    {
      "cell_type": "markdown",
      "source": [
        "Putting tensors (and models) on the GPU"
      ],
      "metadata": {
        "id": "2MMKLyoKP8Ft"
      }
    },
    {
      "cell_type": "code",
      "source": [
        "# Create tensor (default on CPU)\n",
        "tensor = torch.tensor([1, 2, 3])\n",
        "\n",
        "# Tensor not on GPU\n",
        "print(tensor, tensor.device)\n",
        "\n",
        "# Move tensor to GPU (if available)\n",
        "tensor_on_gpu = tensor.to(device)\n",
        "tensor_on_gpu"
      ],
      "metadata": {
        "colab": {
          "base_uri": "https://localhost:8080/"
        },
        "id": "5O7RTL0nP-5q",
        "outputId": "8dbe0d39-5f83-4fce-e14f-9bda98c2db24"
      },
      "execution_count": null,
      "outputs": [
        {
          "output_type": "stream",
          "name": "stdout",
          "text": [
            "tensor([1, 2, 3]) cpu\n"
          ]
        },
        {
          "output_type": "execute_result",
          "data": {
            "text/plain": [
              "tensor([1, 2, 3], device='cuda:0')"
            ]
          },
          "metadata": {},
          "execution_count": 5
        }
      ]
    },
    {
      "cell_type": "markdown",
      "source": [
        "Moving tensors back to the CPU"
      ],
      "metadata": {
        "id": "3AYCymvCQayQ"
      }
    },
    {
      "cell_type": "code",
      "source": [
        "# If tensor is on GPU, can't transform it to NumPy (this will error)\n",
        "tensor_on_gpu.numpy()"
      ],
      "metadata": {
        "colab": {
          "base_uri": "https://localhost:8080/",
          "height": 200
        },
        "id": "ixGb5n5EQb5I",
        "outputId": "07cbd9ee-549f-4811-c805-69406ffa8991"
      },
      "execution_count": null,
      "outputs": [
        {
          "output_type": "error",
          "ename": "TypeError",
          "evalue": "ignored",
          "traceback": [
            "\u001b[0;31m---------------------------------------------------------------------------\u001b[0m",
            "\u001b[0;31mTypeError\u001b[0m                                 Traceback (most recent call last)",
            "\u001b[0;32m<ipython-input-9-53175578f49e>\u001b[0m in \u001b[0;36m<module>\u001b[0;34m\u001b[0m\n\u001b[1;32m      1\u001b[0m \u001b[0;31m# If tensor is on GPU, can't transform it to NumPy (this will error)\u001b[0m\u001b[0;34m\u001b[0m\u001b[0;34m\u001b[0m\u001b[0;34m\u001b[0m\u001b[0m\n\u001b[0;32m----> 2\u001b[0;31m \u001b[0mtensor_on_gpu\u001b[0m\u001b[0;34m.\u001b[0m\u001b[0mnumpy\u001b[0m\u001b[0;34m(\u001b[0m\u001b[0;34m)\u001b[0m\u001b[0;34m\u001b[0m\u001b[0;34m\u001b[0m\u001b[0m\n\u001b[0m",
            "\u001b[0;31mTypeError\u001b[0m: can't convert cuda:0 device type tensor to numpy. Use Tensor.cpu() to copy the tensor to host memory first."
          ]
        }
      ]
    },
    {
      "cell_type": "code",
      "source": [
        "# Instead, copy the tensor back to cpu\n",
        "tensor_back_on_cpu = tensor_on_gpu.cpu().numpy()\n",
        "tensor_back_on_cpu"
      ],
      "metadata": {
        "colab": {
          "base_uri": "https://localhost:8080/"
        },
        "id": "WrCkO0CsQiIe",
        "outputId": "7b081d54-cec2-41c3-d92e-52ded130e7c5"
      },
      "execution_count": null,
      "outputs": [
        {
          "output_type": "execute_result",
          "data": {
            "text/plain": [
              "array([1, 2, 3])"
            ]
          },
          "metadata": {},
          "execution_count": 10
        }
      ]
    },
    {
      "cell_type": "code",
      "source": [
        "#above code only hold the copy, original tensor still on gpu\n",
        "tensor_on_gpu\n"
      ],
      "metadata": {
        "colab": {
          "base_uri": "https://localhost:8080/"
        },
        "id": "z8gUu2mEQud4",
        "outputId": "743ff59b-2af8-4c6a-e97a-9528563fd57a"
      },
      "execution_count": null,
      "outputs": [
        {
          "output_type": "execute_result",
          "data": {
            "text/plain": [
              "tensor([1, 2, 3], device='cuda:0')"
            ]
          },
          "metadata": {},
          "execution_count": 11
        }
      ]
    },
    {
      "cell_type": "code",
      "source": [],
      "metadata": {
        "id": "qXg9TlioQ4cR"
      },
      "execution_count": null,
      "outputs": []
    }
  ]
}